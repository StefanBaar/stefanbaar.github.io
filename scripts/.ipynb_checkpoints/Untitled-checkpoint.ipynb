{
 "cells": [
  {
   "cell_type": "code",
   "execution_count": 1,
   "id": "ee890eef",
   "metadata": {
    "ExecuteTime": {
     "end_time": "2024-08-30T12:32:34.587275Z",
     "start_time": "2024-08-30T12:32:34.517724Z"
    }
   },
   "outputs": [],
   "source": [
    "import bib2yaml"
   ]
  },
  {
   "cell_type": "code",
   "execution_count": 2,
   "id": "d776439d",
   "metadata": {
    "ExecuteTime": {
     "end_time": "2024-08-30T12:35:12.668643Z",
     "start_time": "2024-08-30T12:35:12.556811Z"
    }
   },
   "outputs": [],
   "source": [
    "bib2yaml.bib2yaml(\"mypubs.bib\",\"./\")"
   ]
  },
  {
   "cell_type": "code",
   "execution_count": null,
   "id": "65e832d2",
   "metadata": {},
   "outputs": [],
   "source": [
    "link = \"https://scholar.googleusercontent.com/citations?view_op=export_citations&user=W_4mirsAAAAJ&citsig=ANI4uE0AAAAAZtMFQZia4JImBqKqkXbkxWLALzI&hl=en\""
   ]
  }
 ],
 "metadata": {
  "kernelspec": {
   "display_name": "Python 3 (ipykernel)",
   "language": "python",
   "name": "python3"
  },
  "language_info": {
   "codemirror_mode": {
    "name": "ipython",
    "version": 3
   },
   "file_extension": ".py",
   "mimetype": "text/x-python",
   "name": "python",
   "nbconvert_exporter": "python",
   "pygments_lexer": "ipython3",
   "version": "3.10.13+"
  }
 },
 "nbformat": 4,
 "nbformat_minor": 5
}
